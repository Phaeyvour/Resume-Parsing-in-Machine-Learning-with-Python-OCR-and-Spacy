{
 "cells": [
  {
   "cell_type": "code",
   "execution_count": 2,
   "id": "3b5f1344",
   "metadata": {},
   "outputs": [
    {
     "name": "stdout",
     "output_type": "stream",
     "text": [
      "Favour       nsubj      worked     PROPN\n",
      "worked       ROOT       worked     VERB\n",
      "at           prep       worked     ADP\n",
      "Modzero      compound   media      PROPN\n",
      "media        pobj       at         NOUN\n",
      "for          prep       worked     ADP\n",
      "2            nummod     years      NUM\n",
      "years        pobj       for        NOUN\n",
      ".            punct      worked     PUNCT\n"
     ]
    }
   ],
   "source": [
    "import spacy\n",
    "\n",
    "nlp = spacy.load(\"en_core_web_sm\")\n",
    "text = \"Favour worked at Modzero media for 2 years.\"\n",
    "doc = nlp(text)\n",
    "\n",
    "for token in doc:\n",
    "    print(f\"{token.text:<12} {token.dep_:<10} {token.head.text:<10} {token.pos_}\")"
   ]
  },
  {
   "cell_type": "code",
   "execution_count": 3,
   "id": "4a8a4862",
   "metadata": {},
   "outputs": [],
   "source": [
    "for ent in doc.ents:\n",
    "    if ent.label_ == \"ORG\":\n",
    "        for token in ent.root.head.subtree:\n",
    "            if token.dep_ in (\"nsubj\", \"pobj\") and token.ent_type_ == \"PERSON\":\n",
    "                print(f\"{token.text} worked at {ent.text}\")"
   ]
  },
  {
   "cell_type": "code",
   "execution_count": 4,
   "id": "4adc6af4",
   "metadata": {},
   "outputs": [
    {
     "data": {
      "text/plain": [
       "{'person': 'Favour',\n",
       " 'employer': 'Modzero media',\n",
       " 'role': 'Videographer',\n",
       " 'duration': '2 years'}"
      ]
     },
     "execution_count": 4,
     "metadata": {},
     "output_type": "execute_result"
    }
   ],
   "source": [
    "{\n",
    "  \"person\": \"Favour\",\n",
    "  \"employer\": \"Modzero media\",\n",
    "  \"role\": \"Videographer\",\n",
    "  \"duration\": \"2 years\"\n",
    "}\n"
   ]
  }
 ],
 "metadata": {
  "kernelspec": {
   "display_name": "base",
   "language": "python",
   "name": "python3"
  },
  "language_info": {
   "codemirror_mode": {
    "name": "ipython",
    "version": 3
   },
   "file_extension": ".py",
   "mimetype": "text/x-python",
   "name": "python",
   "nbconvert_exporter": "python",
   "pygments_lexer": "ipython3",
   "version": "3.12.7"
  }
 },
 "nbformat": 4,
 "nbformat_minor": 5
}
