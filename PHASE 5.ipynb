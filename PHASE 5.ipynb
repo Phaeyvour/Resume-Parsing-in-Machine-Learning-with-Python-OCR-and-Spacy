{
 "cells": [
  {
   "cell_type": "code",
   "execution_count": 1,
   "id": "b0a06e4c",
   "metadata": {},
   "outputs": [],
   "source": [
    "import sqlite3\n",
    "\n",
    "conn = sqlite3.connect(\"resumes.db\")\n",
    "cursor = conn.cursor()\n",
    "\n",
    "cursor.execute(\"\"\"\n",
    "CREATE TABLE IF NOT EXISTS Candidate (\n",
    "    id INTEGER PRIMARY KEY AUTOINCREMENT,\n",
    "    name TEXT,\n",
    "    email TEXT,\n",
    "    phone TEXT,\n",
    "    location TEXT\n",
    ")\n",
    "\"\"\")\n",
    "\n",
    "cursor.execute(\"\"\"\n",
    "CREATE TABLE IF NOT EXISTS Education (\n",
    "    id INTEGER PRIMARY KEY AUTOINCREMENT,\n",
    "    candidate_id INTEGER,\n",
    "    degree TEXT,\n",
    "    institution TEXT,\n",
    "    start_year TEXT,\n",
    "    end_year TEXT,\n",
    "    FOREIGN KEY(candidate_id) REFERENCES Candidate(id)\n",
    ")\n",
    "\"\"\")\n",
    "\n",
    "cursor.execute(\"\"\"\n",
    "CREATE TABLE IF NOT EXISTS Experience (\n",
    "    id INTEGER PRIMARY KEY AUTOINCREMENT,\n",
    "    candidate_id INTEGER,\n",
    "    company TEXT,\n",
    "    position TEXT,\n",
    "    start_date TEXT,\n",
    "    end_date TEXT,\n",
    "    duration TEXT,\n",
    "    FOREIGN KEY(candidate_id) REFERENCES Candidate(id)\n",
    ")\n",
    "\"\"\")\n",
    "\n",
    "cursor.execute(\"\"\"\n",
    "CREATE TABLE IF NOT EXISTS Skills (\n",
    "    id INTEGER PRIMARY KEY AUTOINCREMENT,\n",
    "    candidate_id INTEGER,\n",
    "    skill TEXT,\n",
    "    FOREIGN KEY(candidate_id) REFERENCES Candidate(id)\n",
    ")\n",
    "\"\"\")\n",
    "\n",
    "conn.commit()\n",
    "conn.close()\n"
   ]
  },
  {
   "cell_type": "code",
   "execution_count": 2,
   "id": "48d1ced6",
   "metadata": {},
   "outputs": [],
   "source": [
    "candidate = {\"name\": \"John Doe\", \"email\": \"john@email.com\", \"phone\": \"08012345678\", \"location\": \"Abuja\"}\n",
    "\n",
    "education = [\n",
    "    {\"degree\": \"B.Sc in Computer Science\", \"institution\": \"UNILAG\", \"start_year\": \"2015\", \"end_year\": \"2019\"}\n",
    "]\n",
    "\n",
    "experience = [\n",
    "    {\"company\": \"Initech\", \"position\": \"Developer\", \"start_date\": \"2020-01\", \"end_date\": \"2022-01\", \"duration\": \"2 years\"}\n",
    "]\n",
    "\n",
    "skills = [\"Python\", \"SQL\", \"Django\"]\n"
   ]
  },
  {
   "cell_type": "code",
   "execution_count": 3,
   "id": "eb157069",
   "metadata": {},
   "outputs": [],
   "source": [
    "conn = sqlite3.connect(\"resumes.db\")\n",
    "cursor = conn.cursor()\n",
    "\n",
    "cursor.execute(\"INSERT INTO Candidate (name, email, phone, location) VALUES (?, ?, ?, ?)\", \n",
    "               (candidate[\"name\"], candidate[\"email\"], candidate[\"phone\"], candidate[\"location\"]))\n",
    "candidate_id = cursor.lastrowid\n",
    "\n",
    "for edu in education:\n",
    "    cursor.execute(\"\"\"\n",
    "    INSERT INTO Education (candidate_id, degree, institution, start_year, end_year) \n",
    "    VALUES (?, ?, ?, ?, ?)\"\"\",\n",
    "    (candidate_id, edu[\"degree\"], edu[\"institution\"], edu[\"start_year\"], edu[\"end_year\"]))\n",
    "\n",
    "for exp in experience:\n",
    "    cursor.execute(\"\"\"\n",
    "    INSERT INTO Experience (candidate_id, company, position, start_date, end_date, duration)\n",
    "    VALUES (?, ?, ?, ?, ?, ?)\"\"\",\n",
    "    (candidate_id, exp[\"company\"], exp[\"position\"], exp[\"start_date\"], exp[\"end_date\"], exp[\"duration\"]))\n",
    "\n",
    "for skill in skills:\n",
    "    cursor.execute(\"INSERT INTO Skills (candidate_id, skill) VALUES (?, ?)\", (candidate_id, skill))\n",
    "\n",
    "conn.commit()\n",
    "conn.close()\n"
   ]
  },
  {
   "cell_type": "code",
   "execution_count": 6,
   "id": "94f27b33",
   "metadata": {},
   "outputs": [
    {
     "name": "stdout",
     "output_type": "stream",
     "text": [
      "       name               email\n",
      "0  Jane Doe  jane.doe@email.com\n",
      "1  John Doe      john@email.com\n"
     ]
    }
   ],
   "source": [
    "import pandas as pd\n",
    "conn = sqlite3.connect(\"resumes.db\")\n",
    "\n",
    "df = pd.read_sql_query(\"\"\"\n",
    "SELECT Candidate.name, Candidate.email\n",
    "FROM Candidate\n",
    "JOIN Skills ON Candidate.id = Skills.candidate_id\n",
    "WHERE Skills.skill = 'Python'\n",
    "\"\"\", conn)\n",
    "\n",
    "print(df)\n",
    "conn.close()\n"
   ]
  },
  {
   "cell_type": "code",
   "execution_count": 7,
   "id": "42802f19",
   "metadata": {},
   "outputs": [
    {
     "name": "stdout",
     "output_type": "stream",
     "text": [
      "  location  num_candidates\n",
      "0    Abuja               1\n",
      "1    Lagos               1\n"
     ]
    }
   ],
   "source": [
    "conn = sqlite3.connect(\"resumes.db\")\n",
    "\n",
    "df = pd.read_sql_query(\"\"\"\n",
    "SELECT location, COUNT(*) as num_candidates\n",
    "FROM Candidate\n",
    "GROUP BY location\n",
    "\"\"\", conn)\n",
    "\n",
    "print(df)\n",
    "conn.close()\n"
   ]
  },
  {
   "cell_type": "code",
   "execution_count": 22,
   "id": "fdba74c2",
   "metadata": {},
   "outputs": [
    {
     "name": "stdout",
     "output_type": "stream",
     "text": [
      "Accuracy: 1.0\n",
      "                  precision    recall  f1-score   support\n",
      "\n",
      "         Backend       1.00      1.00      1.00        11\n",
      "Business Analyst       1.00      1.00      1.00         9\n",
      "    Data Analyst       1.00      1.00      1.00        12\n",
      "   Data Engineer       1.00      1.00      1.00         9\n",
      "  Data Scientist       1.00      1.00      1.00         8\n",
      "          DevOps       1.00      1.00      1.00        10\n",
      "        Frontend       1.00      1.00      1.00         8\n",
      "Mobile Developer       1.00      1.00      1.00         8\n",
      "\n",
      "        accuracy                           1.00        75\n",
      "       macro avg       1.00      1.00      1.00        75\n",
      "    weighted avg       1.00      1.00      1.00        75\n",
      "\n"
     ]
    }
   ],
   "source": [
    "import pandas as pd\n",
    "from sklearn.preprocessing import MultiLabelBinarizer\n",
    "from sklearn.model_selection import train_test_split\n",
    "from sklearn.linear_model import LogisticRegression\n",
    "from sklearn.metrics import accuracy_score, classification_report\n",
    "\n",
    "# 1. Load\n",
    "df = pd.read_csv(r\"C:\\Users\\HP\\Downloads\\synthetic_resume_data.csv\", converters={\"skills\": eval})\n",
    "\n",
    "# 2. Encode skills\n",
    "mlb = MultiLabelBinarizer()\n",
    "X   = mlb.fit_transform(df[\"skills\"])\n",
    "y   = df[\"category\"]\n",
    "\n",
    "# 3. Stratified split\n",
    "X_train, X_test, y_train, y_test = train_test_split(\n",
    "    X, y, test_size=0.25, stratify=y, random_state=42\n",
    ")\n",
    "\n",
    "# 4. Train with stronger regularisation (C smaller) to avoid overfit\n",
    "model = LogisticRegression(max_iter=3000, C=0.5)\n",
    "model.fit(X_train, y_train)\n",
    "\n",
    "# 5. Evaluate\n",
    "y_pred = model.predict(X_test)\n",
    "print(\"Accuracy:\", accuracy_score(y_test, y_pred))\n",
    "print(classification_report(y_test, y_pred))\n"
   ]
  }
 ],
 "metadata": {
  "kernelspec": {
   "display_name": "base",
   "language": "python",
   "name": "python3"
  },
  "language_info": {
   "codemirror_mode": {
    "name": "ipython",
    "version": 3
   },
   "file_extension": ".py",
   "mimetype": "text/x-python",
   "name": "python",
   "nbconvert_exporter": "python",
   "pygments_lexer": "ipython3",
   "version": "3.12.7"
  }
 },
 "nbformat": 4,
 "nbformat_minor": 5
}
