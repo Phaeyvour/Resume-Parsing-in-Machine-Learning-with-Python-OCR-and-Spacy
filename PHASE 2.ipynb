{
 "cells": [
  {
   "cell_type": "code",
   "execution_count": 8,
   "id": "964b2319",
   "metadata": {},
   "outputs": [],
   "source": [
    "import re\n",
    "\n",
    "def clean_text(text):\n",
    "    text = text.encode('ascii', errors='ignore').decode()\n",
    "    text = re.sub(r'\\s+', ' ', text)                      \n",
    "    text = re.sub(r'[•●|▪]+', ' ', text)                  \n",
    "    text = re.sub(r'http\\S+|www\\S+', '', text)             \n",
    "    return text.strip()\n",
    "\n",
    "# Usage\n",
    "cleaned = clean_text(raw_text)"
   ]
  },
  {
   "cell_type": "code",
   "execution_count": 9,
   "id": "cf374716",
   "metadata": {},
   "outputs": [],
   "source": [
    "import re\n",
    "from dateutil import parser\n",
    "\n",
    "def normalize_date(date_string):\n",
    "    try:\n",
    "        return parser.parse(date_string, fuzzy=True).strftime(\"%Y-%m-%d\")\n",
    "    except:\n",
    "        return None\n",
    "\n",
    "def extract_email(text):\n",
    "    return re.findall(r'\\b[\\w\\.-]+?@\\w+?\\.\\w+?\\b', text)\n",
    "\n",
    "def extract_phone(text):\n",
    "    return re.findall(r'\\+?\\d[\\d\\s\\-\\(\\)]{8,}\\d', text)\n",
    "\n",
    "emails = extract_email(cleaned)\n",
    "phones = extract_phone(cleaned)\n"
   ]
  },
  {
   "cell_type": "code",
   "execution_count": 10,
   "id": "90d5d719",
   "metadata": {},
   "outputs": [],
   "source": [
    "import spacy\n",
    "nlp = spacy.load(\"en_core_web_sm\")\n",
    "\n",
    "def normalize_tokens(text):\n",
    "    doc = nlp(text)\n",
    "    return [token.lemma_.lower() for token in doc if not token.is_stop and token.is_alpha]\n",
    "\n",
    "# Usage\n",
    "tokens = normalize_tokens(cleaned)\n"
   ]
  }
 ],
 "metadata": {
  "kernelspec": {
   "display_name": "base",
   "language": "python",
   "name": "python3"
  },
  "language_info": {
   "codemirror_mode": {
    "name": "ipython",
    "version": 3
   },
   "file_extension": ".py",
   "mimetype": "text/x-python",
   "name": "python",
   "nbconvert_exporter": "python",
   "pygments_lexer": "ipython3",
   "version": "3.12.7"
  }
 },
 "nbformat": 4,
 "nbformat_minor": 5
}
